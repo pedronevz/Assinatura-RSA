{
 "cells": [
  {
   "cell_type": "markdown",
   "metadata": {},
   "source": [
    "## Parte I"
   ]
  },
  {
   "cell_type": "code",
   "execution_count": 1,
   "metadata": {},
   "outputs": [],
   "source": [
    "import secrets\n",
    "import hashlib\n",
    "import base64"
   ]
  },
  {
   "cell_type": "markdown",
   "metadata": {},
   "source": [
    "### Teste de primalidade (Miller Rabin)"
   ]
  },
  {
   "cell_type": "code",
   "execution_count": 2,
   "metadata": {},
   "outputs": [],
   "source": [
    "def teste_miller_rabin(numero, iteracoes=40):\n",
    "    if numero <= 1:\n",
    "        return False\n",
    "    if numero in (2, 3):\n",
    "        return True\n",
    "    if numero % 2 == 0:\n",
    "        return False\n",
    "\n",
    "    # Escreve numero - 1 como fator_base * 2^expoente\n",
    "    fator_base = numero - 1\n",
    "    expoente = 0\n",
    "    while fator_base % 2 == 0:\n",
    "        fator_base //= 2\n",
    "        expoente += 1\n",
    "\n",
    "    # Função para realizar o teste com uma base\n",
    "    def is_composite(base):\n",
    "        valor_atual = pow(base, fator_base, numero)\n",
    "        if valor_atual == 1 or valor_atual == numero - 1:\n",
    "            return False\n",
    "        for _ in range(expoente - 1):\n",
    "            valor_atual = pow(valor_atual, 2, numero)\n",
    "            if valor_atual == numero - 1:\n",
    "                return False\n",
    "        return True\n",
    "\n",
    "    # Realiza os testes de Miller-Rabin\n",
    "    for _ in range(iteracoes):\n",
    "        base = secrets.randbelow(numero - 2) + 2  # Gera base aleatória no intervalo [2, numero - 2]\n",
    "        if is_composite(base):\n",
    "            return False\n",
    "\n",
    "    return True"
   ]
  },
  {
   "cell_type": "markdown",
   "metadata": {},
   "source": [
    "### Geração de número primo de acordo com o tamanho de bits"
   ]
  },
  {
   "cell_type": "code",
   "execution_count": 3,
   "metadata": {},
   "outputs": [],
   "source": [
    "def gerar_primo(tamanho_bits):\n",
    "    while True:\n",
    "        candidato_primo = secrets.randbits(tamanho_bits)\n",
    "        candidato_primo = (candidato_primo | (1 << (tamanho_bits - 1))) | 1\n",
    "        if teste_miller_rabin(candidato_primo):\n",
    "            return candidato_primo"
   ]
  },
  {
   "cell_type": "markdown",
   "metadata": {},
   "source": [
    "### Calcular inverso modular"
   ]
  },
  {
   "cell_type": "code",
   "execution_count": 4,
   "metadata": {},
   "outputs": [],
   "source": [
    "def inverso_modular(numero, modulo):\n",
    "    \n",
    "    def algoritmo_euclides_estendido(numero, divisor):\n",
    "        if numero == 0:\n",
    "            return divisor, 0, 1\n",
    "        mdc, coeficiente_anterior, coeficiente_atual = algoritmo_euclides_estendido(divisor % numero, numero)\n",
    "        coeficiente_novo = coeficiente_atual - (divisor // numero) * coeficiente_anterior\n",
    "        \n",
    "        return mdc, coeficiente_novo, coeficiente_anterior\n",
    "\n",
    "    mdc, inverso, _ = algoritmo_euclides_estendido(numero, modulo)\n",
    "    if mdc != 1:\n",
    "        raise ValueError(f\"{numero} e {modulo} não são coprimos, portanto, o inverso modular não existe.\")\n",
    "    \n",
    "    return inverso % modulo\n"
   ]
  },
  {
   "cell_type": "markdown",
   "metadata": {},
   "source": [
    "### Geração de chaves"
   ]
  },
  {
   "cell_type": "code",
   "execution_count": 5,
   "metadata": {},
   "outputs": [],
   "source": [
    "def gerar_chaves(tamanho_bits):\n",
    "    primo_p = gerar_primo(tamanho_bits)\n",
    "    primo_q = gerar_primo(tamanho_bits)\n",
    "    while primo_p == primo_q:\n",
    "        primo_q = gerar_primo(tamanho_bits)\n",
    "\n",
    "    modulo_n = primo_p * primo_q\n",
    "    totiente_n = (primo_p - 1) * (primo_q - 1)\n",
    "\n",
    "    expoente_e = 65537\n",
    "    if inverso_modular(expoente_e, totiente_n) is None:\n",
    "        raise ValueError(\"65537 não é coprimo com phi(n). Tente novamente.\")\n",
    "\n",
    "    chave_privada_d = inverso_modular(expoente_e, totiente_n)\n",
    "\n",
    "    chave_publica = (modulo_n, expoente_e)\n",
    "    chave_privada = (modulo_n, chave_privada_d)\n",
    "\n",
    "    return chave_publica, chave_privada"
   ]
  },
  {
   "cell_type": "markdown",
   "metadata": {},
   "source": [
    "### Geração da máscara"
   ]
  },
  {
   "cell_type": "code",
   "execution_count": 6,
   "metadata": {},
   "outputs": [],
   "source": [
    "def gerar_mascara(seed, tamanho_desejado, algoritmo_hash):\n",
    "    contador = 0\n",
    "    mascara_resultante = b\"\"\n",
    "    while len(mascara_resultante) < tamanho_desejado:\n",
    "        contador_em_bytes = contador.to_bytes(4, byteorder=\"big\")\n",
    "        mascara_resultante += algoritmo_hash(seed + contador_em_bytes).digest()\n",
    "        contador += 1\n",
    "\n",
    "    return mascara_resultante[:tamanho_desejado]"
   ]
  },
  {
   "cell_type": "markdown",
   "metadata": {},
   "source": [
    "### OAEP"
   ]
  },
  {
   "cell_type": "code",
   "execution_count": 7,
   "metadata": {},
   "outputs": [],
   "source": [
    "def aplicar_oaep(mensagem, modulo_n, algoritmo_hash):\n",
    "    tamanho_chave = (modulo_n.bit_length() + 7) // 8\n",
    "    tamanho_hash = algoritmo_hash().digest_size\n",
    "\n",
    "    if len(mensagem) > tamanho_chave - 2 * tamanho_hash - 2:\n",
    "        raise ValueError(\"Mensagem muito longa para o tamanho da chave RSA.\")\n",
    "\n",
    "    # Preenchimento com zeros e separador\n",
    "    preenchimento = b\"\\x00\" * (tamanho_chave - len(mensagem) - 2 * tamanho_hash - 2)\n",
    "    bloco_dados = algoritmo_hash(b\"\").digest() + preenchimento + b\"\\x01\" + mensagem\n",
    "\n",
    "    # Geração de seed criptograficamente seguro\n",
    "    seed = secrets.token_bytes(tamanho_hash)\n",
    "\n",
    "    # Aplicação da máscara no bloco de dados e no seed\n",
    "    mascara_dados = gerar_mascara(seed, len(bloco_dados), algoritmo_hash)\n",
    "    dados_mascarados = bytes(x ^ y for x, y in zip(bloco_dados, mascara_dados))\n",
    "\n",
    "    mascara_seed = gerar_mascara(dados_mascarados, len(seed), algoritmo_hash)\n",
    "    seed_mascarado = bytes(x ^ y for x, y in zip(seed, mascara_seed))\n",
    "\n",
    "    return b\"\\x00\" + seed_mascarado + dados_mascarados"
   ]
  },
  {
   "cell_type": "code",
   "execution_count": 8,
   "metadata": {},
   "outputs": [],
   "source": [
    "def remover_oaep(mensagem_preenchida, modulo_n, algoritmo_hash):\n",
    "    tamanho_chave = (modulo_n.bit_length() + 7) // 8\n",
    "    tamanho_hash = algoritmo_hash().digest_size\n",
    "\n",
    "    if len(mensagem_preenchida) != tamanho_chave:\n",
    "        raise ValueError(\"Tamanho da mensagem preenchida incorreto.\")\n",
    "\n",
    "    # Separação do seed mascarado e do bloco de dados mascarado\n",
    "    seed_mascarado = mensagem_preenchida[1:1 + tamanho_hash]\n",
    "    dados_mascarados = mensagem_preenchida[1 + tamanho_hash:]\n",
    "\n",
    "    # Remoção das máscaras\n",
    "    mascara_seed = gerar_mascara(dados_mascarados, len(seed_mascarado), algoritmo_hash)\n",
    "    seed = bytes(x ^ y for x, y in zip(seed_mascarado, mascara_seed))\n",
    "\n",
    "    mascara_dados = gerar_mascara(seed, len(dados_mascarados), algoritmo_hash)\n",
    "    bloco_dados = bytes(x ^ y for x, y in zip(dados_mascarados, mascara_dados))\n",
    "\n",
    "    # Verificação do hash de integridade\n",
    "    hash_esperado = algoritmo_hash(b\"\").digest()\n",
    "    if bloco_dados[:tamanho_hash] != hash_esperado:\n",
    "        raise ValueError(\"Erro na validação do preenchimento OAEP.\")\n",
    "\n",
    "    # Recuperação da mensagem original\n",
    "    indice_separador = bloco_dados.find(b\"\\x01\", tamanho_hash)\n",
    "    if indice_separador == -1:\n",
    "        raise ValueError(\"Erro no formato do preenchimento OAEP.\")\n",
    "\n",
    "    return bloco_dados[indice_separador + 1:]"
   ]
  },
  {
   "cell_type": "code",
   "execution_count": 9,
   "metadata": {},
   "outputs": [],
   "source": [
    "def cifrar_com_rsa(mensagem, chave_publica):\n",
    "    modulo_n, expoente_e = chave_publica\n",
    "    algoritmo_hash = hashlib.sha3_256\n",
    "\n",
    "    mensagem_preenchida = aplicar_oaep(mensagem, modulo_n, algoritmo_hash)\n",
    "    mensagem_inteiro = int.from_bytes(mensagem_preenchida, byteorder=\"big\")\n",
    "    if mensagem_inteiro >= modulo_n:\n",
    "        raise ValueError(\"Mensagem maior que o módulo RSA.\")\n",
    "\n",
    "    cifra_inteiro = pow(mensagem_inteiro, expoente_e, modulo_n)\n",
    "    \n",
    "    return cifra_inteiro\n",
    "\n",
    "def decifrar_com_rsa(cifra, chave_privada):\n",
    "    modulo_n, expoente_d = chave_privada\n",
    "    algoritmo_hash = hashlib.sha3_256\n",
    "\n",
    "    mensagem_inteiro = pow(cifra, expoente_d, modulo_n)\n",
    "    mensagem_preenchida = mensagem_inteiro.to_bytes((modulo_n.bit_length() + 7) // 8, byteorder=\"big\")\n",
    "    mensagem_original = remover_oaep(mensagem_preenchida, modulo_n, algoritmo_hash)\n",
    "\n",
    "    return mensagem_original"
   ]
  },
  {
   "cell_type": "markdown",
   "metadata": {},
   "source": [
    "# Teste da Parte 1: "
   ]
  },
  {
   "cell_type": "code",
   "execution_count": 10,
   "metadata": {},
   "outputs": [
    {
     "name": "stdout",
     "output_type": "stream",
     "text": [
      "Chave Pública: (24917301283468236871574808571550132901909369774272337587217633547431579126445333457226059538717284468152932762824719272000449163595946283838344161801148676083372161898777072083198995366143713722469367978194956636757645507596740884316252797971071854961844315156706170627630210930848566642015457888825287640737823792186747061172998837529446435469569016045763642069174961368960342248906471389444789396413956851901415267077051006514959648486597859919842293326435119723155012807563933854541157256040042426474149186732308011808471298248159087273885860897066385442731123826479488374807467596263353517649603729782704465310643, 65537)\n",
      "Chave Privada: (24917301283468236871574808571550132901909369774272337587217633547431579126445333457226059538717284468152932762824719272000449163595946283838344161801148676083372161898777072083198995366143713722469367978194956636757645507596740884316252797971071854961844315156706170627630210930848566642015457888825287640737823792186747061172998837529446435469569016045763642069174961368960342248906471389444789396413956851901415267077051006514959648486597859919842293326435119723155012807563933854541157256040042426474149186732308011808471298248159087273885860897066385442731123826479488374807467596263353517649603729782704465310643, 4319475409028222822191455211275784059364822161611120852775982036595666119223422393572260897193449026392503000113701201599052488634108148537275554606143859331113586696553188518504414092112222585729808956776674280943644210320987734969817782897437284956917668866370734157811722025502701765719175688160033155109614788081212241380874054203093062924999568669737656723767191981755718022313007859813973182905283878125876864755427532305918433778589597836328136678984170672307965306127395236541600959219896064278354244172099840826233377949116534868303444104803786718384556683295004998815822978337670256555801436169383280502257)\n",
      "Mensagem original: Mensagem que sera cifrada\n",
      "Texto cifrado: 20635529620319354649848233072275596327026221496818219928928755427781269727085404724083043132734717525428065049005829317949251230536146328420657510700423314975661874528225255600940540520234865952447096219812789148639866190845025348267031110806159221590706672615834977251917158893382909017367957555761051324578192292456952055922063932114175981855153756231249517269157720319006742146724992121410092740841697298756977711843152481045320736433506136583899668369316650266278697315871478167925575828158440419807246176236005809388290795323829297339212951039765269770827518052840250992370469917923811228782511466986718400837178\n",
      "Mensagem decifrada: Mensagem que sera cifrada\n"
     ]
    }
   ],
   "source": [
    "\n",
    "# Teste da geração de chaves e cifração/decifração\n",
    "tamanho_bits = 1024\n",
    "chave_publica, chave_privada = gerar_chaves(tamanho_bits)\n",
    "print(\"Chave Pública:\", chave_publica)\n",
    "print(\"Chave Privada:\", chave_privada)\n",
    "\n",
    "mensagem_original = \"Mensagem que sera cifrada\"\n",
    "print(\"Mensagem original:\", mensagem_original)\n",
    "\n",
    "cifra = cifrar_com_rsa(mensagem_original.encode(), chave_publica)\n",
    "print(\"Texto cifrado:\", cifra)\n",
    "\n",
    "mensagem_decifrada = decifrar_com_rsa(cifra, chave_privada)\n",
    "print(\"Mensagem decifrada:\", mensagem_decifrada.decode())\n"
   ]
  },
  {
   "cell_type": "markdown",
   "metadata": {},
   "source": [
    "# Parte 2 e 3:"
   ]
  },
  {
   "cell_type": "markdown",
   "metadata": {},
   "source": [
    "## Assinatura e verificação:"
   ]
  },
  {
   "cell_type": "code",
   "execution_count": 11,
   "metadata": {},
   "outputs": [],
   "source": [
    "#Função que assina uma mensagem\n",
    "#Recebe como parametros uma mensagem (string) e a chave privada ((int), (int)) e retorna a assinatura no formato base64 (string)\n",
    "def assinar(msg, c_privada):\n",
    "    #Calcular Hash da mensagem em claro\n",
    "    sha = hashlib.sha3_256()\n",
    "    sha.update(msg.encode())\n",
    "    hash = sha.digest()\n",
    "\n",
    "    #Criptografar Hash com a chave privada \n",
    "    assinatura = cifrar_com_rsa(hash, c_privada)\n",
    "    #Transforma Hash assinado para formato base64\n",
    "    assinatura_b64 = base64.b64encode(assinatura.to_bytes(256, byteorder=\"big\")).decode()\n",
    "    \n",
    "    return assinatura_b64\n",
    "\n",
    "\n",
    "#Função que verifica uma assinatura\n",
    "#Recebe como parametros uma mensagem (string), a aasinatura em formato Base64 (string) e a chave publica ((int), (int)) e retorna verdadeiro ou falso (bool)\n",
    "def verificar_assinatura(msg, assinatura, c_publica):\n",
    "    \n",
    "    #Tranforma assinatura de Base64 para inteiro\n",
    "    assinatura_int = int.from_bytes(base64.b64decode(assinatura.encode()), \"big\")\n",
    "    \n",
    "    #Decifra a assinatura para obter o Hash da mensagem\n",
    "    hash_decifrado = decifrar_com_rsa(assinatura_int, c_publica)\n",
    "\n",
    "    #Calcula o Hash da mensagem\n",
    "    sha = hashlib.sha3_256()\n",
    "    sha.update(msg.encode())\n",
    "    hash_calculado = sha.digest()\n",
    "\n",
    "    #compara hash obtido a partir da decriptação com o hash obtido diretamente da mensagem e os comapara\n",
    "    return hash_decifrado == hash_calculado\n",
    "\n"
   ]
  },
  {
   "cell_type": "markdown",
   "metadata": {},
   "source": [
    "# Teste da Parte 2 e 3:"
   ]
  },
  {
   "cell_type": "code",
   "execution_count": 12,
   "metadata": {},
   "outputs": [
    {
     "name": "stdout",
     "output_type": "stream",
     "text": [
      "Mensagem que vou assinar!\n",
      "Assinatura em Base64:  LMDIRSSdmapC5Npt7/znXUzG/nqkIMAXIp/W0TLc6NbvzjOqxX+iop2IqoRzghfnprxl4btOeOdIcsj5nDLMgKv8XLr5lgrbuoesvuEKKZjWTz9B1mNbftpsa0qHG4bDaJMSB3+SEzr/NdRQOSCjtNtnRKlmo3TIHKCN+Mtrq2xuEC+WUmqPWYlYz43b79/r2AYg/pFXi1XDsOft089X5oZvcz5Azbvrk/wy+oER7jaUlWxk+hgInaGwyWNJWkOK0xDHrym8HJZJkOPgNtgxppgdWI2hkYIgvTzzQiR997FBzAS4asmr4w3peR7q0n4yTDjPl5KjZfBGP18eMTSZ4w==\n",
      "A assinatura é válida para a mensagem e chave pública? \n",
      "True\n"
     ]
    }
   ],
   "source": [
    "tamanho_bits = 1024\n",
    "chave_publica, chave_privada = gerar_chaves(tamanho_bits)\n",
    "\n",
    "mensagem = \"Mensagem que vou assinar!\"\n",
    "print(mensagem)\n",
    "\n",
    "assinatura = assinar(mensagem, chave_privada)\n",
    "print(\"Assinatura em Base64: \", assinatura)\n",
    "\n",
    "print(\"A assinatura é válida para a mensagem e chave pública? \")\n",
    "print(verificar_assinatura(mensagem, assinatura, chave_publica))"
   ]
  }
 ],
 "metadata": {
  "kernelspec": {
   "display_name": "Python 3",
   "language": "python",
   "name": "python3"
  },
  "language_info": {
   "codemirror_mode": {
    "name": "ipython",
    "version": 3
   },
   "file_extension": ".py",
   "mimetype": "text/x-python",
   "name": "python",
   "nbconvert_exporter": "python",
   "pygments_lexer": "ipython3",
   "version": "3.13.1"
  }
 },
 "nbformat": 4,
 "nbformat_minor": 2
}
